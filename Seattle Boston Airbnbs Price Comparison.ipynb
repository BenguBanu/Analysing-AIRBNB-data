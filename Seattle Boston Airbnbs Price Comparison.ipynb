{
 "cells": [
  {
   "cell_type": "code",
   "execution_count": 31,
   "metadata": {},
   "outputs": [],
   "source": [
    "import os\n",
    "os.chdir(\"C:/Users/TTBDONMEZ/Desktop/UDACITY_DATA_SCIENTIST/TheDataScienceProcess\")"
   ]
  },
  {
   "cell_type": "code",
   "execution_count": 32,
   "metadata": {},
   "outputs": [
    {
     "data": {
      "text/html": [
       "<div>\n",
       "<style scoped>\n",
       "    .dataframe tbody tr th:only-of-type {\n",
       "        vertical-align: middle;\n",
       "    }\n",
       "\n",
       "    .dataframe tbody tr th {\n",
       "        vertical-align: top;\n",
       "    }\n",
       "\n",
       "    .dataframe thead th {\n",
       "        text-align: right;\n",
       "    }\n",
       "</style>\n",
       "<table border=\"1\" class=\"dataframe\">\n",
       "  <thead>\n",
       "    <tr style=\"text-align: right;\">\n",
       "      <th></th>\n",
       "      <th>listing_id</th>\n",
       "      <th>date</th>\n",
       "      <th>available</th>\n",
       "      <th>price</th>\n",
       "    </tr>\n",
       "  </thead>\n",
       "  <tbody>\n",
       "    <tr>\n",
       "      <th>0</th>\n",
       "      <td>12147973</td>\n",
       "      <td>2017-09-05</td>\n",
       "      <td>f</td>\n",
       "      <td>NaN</td>\n",
       "    </tr>\n",
       "    <tr>\n",
       "      <th>1</th>\n",
       "      <td>12147973</td>\n",
       "      <td>2017-09-04</td>\n",
       "      <td>f</td>\n",
       "      <td>NaN</td>\n",
       "    </tr>\n",
       "    <tr>\n",
       "      <th>2</th>\n",
       "      <td>12147973</td>\n",
       "      <td>2017-09-03</td>\n",
       "      <td>f</td>\n",
       "      <td>NaN</td>\n",
       "    </tr>\n",
       "    <tr>\n",
       "      <th>3</th>\n",
       "      <td>12147973</td>\n",
       "      <td>2017-09-02</td>\n",
       "      <td>f</td>\n",
       "      <td>NaN</td>\n",
       "    </tr>\n",
       "    <tr>\n",
       "      <th>4</th>\n",
       "      <td>12147973</td>\n",
       "      <td>2017-09-01</td>\n",
       "      <td>f</td>\n",
       "      <td>NaN</td>\n",
       "    </tr>\n",
       "  </tbody>\n",
       "</table>\n",
       "</div>"
      ],
      "text/plain": [
       "   listing_id        date available price\n",
       "0    12147973  2017-09-05         f   NaN\n",
       "1    12147973  2017-09-04         f   NaN\n",
       "2    12147973  2017-09-03         f   NaN\n",
       "3    12147973  2017-09-02         f   NaN\n",
       "4    12147973  2017-09-01         f   NaN"
      ]
     },
     "execution_count": 32,
     "metadata": {},
     "output_type": "execute_result"
    }
   ],
   "source": [
    "import numpy as np\n",
    "import pandas as pd\n",
    "import matplotlib.pyplot as plt\n",
    "import seaborn as sns\n",
    "%matplotlib inline\n",
    "\n",
    "\n",
    "df_boston_calendar= pd.read_csv('./boston-calendar.csv')\n",
    "\n",
    "df_seattle_calendar=pd.read_csv('./seattle-calendar.csv')\n",
    "\n",
    "df_boston_calendar.head()"
   ]
  },
  {
   "cell_type": "code",
   "execution_count": 33,
   "metadata": {},
   "outputs": [],
   "source": [
    "#dropping nulls, while data understanding I saw that only available ==f has no price, so dropped nulls\n",
    "boston_price_dates=pd.DataFrame(df_boston_calendar.dropna(subset=['price'],how='any'))"
   ]
  },
  {
   "cell_type": "code",
   "execution_count": 34,
   "metadata": {},
   "outputs": [
    {
     "data": {
      "text/plain": [
       "listing_id    0\n",
       "date          0\n",
       "available     0\n",
       "price         0\n",
       "dtype: int64"
      ]
     },
     "execution_count": 34,
     "metadata": {},
     "output_type": "execute_result"
    }
   ],
   "source": [
    "boston_price_dates.isnull().sum()"
   ]
  },
  {
   "cell_type": "code",
   "execution_count": 35,
   "metadata": {},
   "outputs": [],
   "source": [
    "#dropping nulls, while data understanding I saw that only available ==f has no price, so dropped nulls\n",
    "seattle_price_dates=pd.DataFrame(df_seattle_calendar.dropna(subset=['price'],how='any'))"
   ]
  },
  {
   "cell_type": "code",
   "execution_count": 36,
   "metadata": {},
   "outputs": [
    {
     "data": {
      "text/plain": [
       "listing_id    0\n",
       "date          0\n",
       "available     0\n",
       "price         0\n",
       "dtype: int64"
      ]
     },
     "execution_count": 36,
     "metadata": {},
     "output_type": "execute_result"
    }
   ],
   "source": [
    "seattle_price_dates.isnull().sum()"
   ]
  },
  {
   "cell_type": "code",
   "execution_count": 37,
   "metadata": {},
   "outputs": [],
   "source": [
    "def get_floatPrice(df):\n",
    "    '''\n",
    "    INPUT - df - pandas dataframe with the price data type string\n",
    "           \n",
    "    OUTPUT -df - pandas dataframe with the price data type float\n",
    "    '''\n",
    "    df['price'] = df['price'].map(lambda x: x.replace(\"$\",\"\"))\n",
    "    \n",
    "    df['price'] = df['price'].map(lambda x: x.replace(\".\",\"\"))\n",
    "    \n",
    "    df['price'] = df['price'].map(lambda x: x.replace(\",\",\"\"))\n",
    "    \n",
    "    df['price'] = df['price'].apply(lambda x: float(x))\n",
    "    \n",
    "    df['price'] = df['price']/100\n",
    "    \n",
    "    df=df\n",
    "    \n",
    "    return df"
   ]
  },
  {
   "cell_type": "code",
   "execution_count": 38,
   "metadata": {},
   "outputs": [
    {
     "data": {
      "text/html": [
       "<div>\n",
       "<style scoped>\n",
       "    .dataframe tbody tr th:only-of-type {\n",
       "        vertical-align: middle;\n",
       "    }\n",
       "\n",
       "    .dataframe tbody tr th {\n",
       "        vertical-align: top;\n",
       "    }\n",
       "\n",
       "    .dataframe thead th {\n",
       "        text-align: right;\n",
       "    }\n",
       "</style>\n",
       "<table border=\"1\" class=\"dataframe\">\n",
       "  <thead>\n",
       "    <tr style=\"text-align: right;\">\n",
       "      <th></th>\n",
       "      <th>listing_id</th>\n",
       "      <th>date</th>\n",
       "      <th>available</th>\n",
       "      <th>price</th>\n",
       "    </tr>\n",
       "  </thead>\n",
       "  <tbody>\n",
       "    <tr>\n",
       "      <th>0</th>\n",
       "      <td>241032</td>\n",
       "      <td>2016-01-04</td>\n",
       "      <td>t</td>\n",
       "      <td>85.0</td>\n",
       "    </tr>\n",
       "    <tr>\n",
       "      <th>1</th>\n",
       "      <td>241032</td>\n",
       "      <td>2016-01-05</td>\n",
       "      <td>t</td>\n",
       "      <td>85.0</td>\n",
       "    </tr>\n",
       "    <tr>\n",
       "      <th>9</th>\n",
       "      <td>241032</td>\n",
       "      <td>2016-01-13</td>\n",
       "      <td>t</td>\n",
       "      <td>85.0</td>\n",
       "    </tr>\n",
       "    <tr>\n",
       "      <th>10</th>\n",
       "      <td>241032</td>\n",
       "      <td>2016-01-14</td>\n",
       "      <td>t</td>\n",
       "      <td>85.0</td>\n",
       "    </tr>\n",
       "    <tr>\n",
       "      <th>14</th>\n",
       "      <td>241032</td>\n",
       "      <td>2016-01-18</td>\n",
       "      <td>t</td>\n",
       "      <td>85.0</td>\n",
       "    </tr>\n",
       "    <tr>\n",
       "      <th>...</th>\n",
       "      <td>...</td>\n",
       "      <td>...</td>\n",
       "      <td>...</td>\n",
       "      <td>...</td>\n",
       "    </tr>\n",
       "    <tr>\n",
       "      <th>1393207</th>\n",
       "      <td>10208623</td>\n",
       "      <td>2016-01-06</td>\n",
       "      <td>t</td>\n",
       "      <td>87.0</td>\n",
       "    </tr>\n",
       "    <tr>\n",
       "      <th>1393208</th>\n",
       "      <td>10208623</td>\n",
       "      <td>2016-01-07</td>\n",
       "      <td>t</td>\n",
       "      <td>87.0</td>\n",
       "    </tr>\n",
       "    <tr>\n",
       "      <th>1393211</th>\n",
       "      <td>10208623</td>\n",
       "      <td>2016-01-10</td>\n",
       "      <td>t</td>\n",
       "      <td>87.0</td>\n",
       "    </tr>\n",
       "    <tr>\n",
       "      <th>1393212</th>\n",
       "      <td>10208623</td>\n",
       "      <td>2016-01-11</td>\n",
       "      <td>t</td>\n",
       "      <td>87.0</td>\n",
       "    </tr>\n",
       "    <tr>\n",
       "      <th>1393213</th>\n",
       "      <td>10208623</td>\n",
       "      <td>2016-01-12</td>\n",
       "      <td>t</td>\n",
       "      <td>87.0</td>\n",
       "    </tr>\n",
       "  </tbody>\n",
       "</table>\n",
       "<p>934542 rows × 4 columns</p>\n",
       "</div>"
      ],
      "text/plain": [
       "         listing_id        date available  price\n",
       "0            241032  2016-01-04         t   85.0\n",
       "1            241032  2016-01-05         t   85.0\n",
       "9            241032  2016-01-13         t   85.0\n",
       "10           241032  2016-01-14         t   85.0\n",
       "14           241032  2016-01-18         t   85.0\n",
       "...             ...         ...       ...    ...\n",
       "1393207    10208623  2016-01-06         t   87.0\n",
       "1393208    10208623  2016-01-07         t   87.0\n",
       "1393211    10208623  2016-01-10         t   87.0\n",
       "1393212    10208623  2016-01-11         t   87.0\n",
       "1393213    10208623  2016-01-12         t   87.0\n",
       "\n",
       "[934542 rows x 4 columns]"
      ]
     },
     "execution_count": 38,
     "metadata": {},
     "output_type": "execute_result"
    }
   ],
   "source": [
    "get_floatPrice(boston_price_dates)\n",
    "\n",
    "get_floatPrice(seattle_price_dates)"
   ]
  },
  {
   "cell_type": "code",
   "execution_count": 10,
   "metadata": {},
   "outputs": [],
   "source": [
    "#fixing data type of date\n",
    "boston_price_dates['date'] = pd.to_datetime(boston_price_dates['date'])"
   ]
  },
  {
   "cell_type": "code",
   "execution_count": 11,
   "metadata": {},
   "outputs": [],
   "source": [
    "#getting year month\n",
    "boston_price_dates['YearMonth'] = boston_price_dates['date'].map(lambda x: 100*x.year + x.month)"
   ]
  },
  {
   "cell_type": "code",
   "execution_count": 13,
   "metadata": {},
   "outputs": [],
   "source": [
    "#dropping unnecessary columns\n",
    "boston_price_yearmonths=boston_price_dates.drop(['available','date','listing_id'], axis=1)"
   ]
  },
  {
   "cell_type": "code",
   "execution_count": 14,
   "metadata": {},
   "outputs": [],
   "source": [
    "#grouping by months and calucalting average prices\n",
    "boston_price_months=pd.DataFrame(boston_price_yearmonths.groupby(['YearMonth'])['price'].mean())"
   ]
  },
  {
   "cell_type": "code",
   "execution_count": 15,
   "metadata": {},
   "outputs": [],
   "source": [
    "seattle_price_dates['date'] = pd.to_datetime(seattle_price_dates['date'])"
   ]
  },
  {
   "cell_type": "code",
   "execution_count": 16,
   "metadata": {},
   "outputs": [],
   "source": [
    "seattle_price_dates['YearMonth'] = seattle_price_dates['date'].map(lambda x: 100*x.year + x.month)"
   ]
  },
  {
   "cell_type": "code",
   "execution_count": 17,
   "metadata": {},
   "outputs": [],
   "source": [
    "seattle_price_yearmonths=seattle_price_dates.drop(['available','date','listing_id'], axis=1)"
   ]
  },
  {
   "cell_type": "code",
   "execution_count": 18,
   "metadata": {},
   "outputs": [],
   "source": [
    "seattle_price_months=pd.DataFrame(seattle_price_yearmonths.groupby(['YearMonth'])['price'].mean())"
   ]
  },
  {
   "cell_type": "code",
   "execution_count": 21,
   "metadata": {},
   "outputs": [
    {
     "data": {
      "text/plain": [
       "count    643037.000000\n",
       "mean        198.438909\n",
       "std         180.142913\n",
       "min          11.000000\n",
       "25%          85.000000\n",
       "50%         150.000000\n",
       "75%         255.000000\n",
       "max        7163.000000\n",
       "Name: price, dtype: float64"
      ]
     },
     "execution_count": 21,
     "metadata": {},
     "output_type": "execute_result"
    }
   ],
   "source": [
    "boston_price_yearmonths['price'].describe()"
   ]
  },
  {
   "cell_type": "code",
   "execution_count": 22,
   "metadata": {},
   "outputs": [
    {
     "data": {
      "text/plain": [
       "count    934542.000000\n",
       "mean        137.944859\n",
       "std         105.062870\n",
       "min          10.000000\n",
       "25%          75.000000\n",
       "50%         109.000000\n",
       "75%         160.000000\n",
       "max        1650.000000\n",
       "Name: price, dtype: float64"
      ]
     },
     "execution_count": 22,
     "metadata": {},
     "output_type": "execute_result"
    }
   ],
   "source": [
    "seattle_price_yearmonths['price'].describe()"
   ]
  },
  {
   "cell_type": "code",
   "execution_count": 23,
   "metadata": {},
   "outputs": [],
   "source": [
    "# Change the price column label to Seattle\n",
    "seattle_price_months = seattle_price_months.rename(columns={'price':'Seattle'})\n",
    "\n",
    "# Change the price column label to Boston\n",
    "boston_price_months = boston_price_months.rename(columns={'price':'Boston'})\n"
   ]
  },
  {
   "cell_type": "code",
   "execution_count": 39,
   "metadata": {},
   "outputs": [
    {
     "data": {
      "text/html": [
       "<div>\n",
       "<style scoped>\n",
       "    .dataframe tbody tr th:only-of-type {\n",
       "        vertical-align: middle;\n",
       "    }\n",
       "\n",
       "    .dataframe tbody tr th {\n",
       "        vertical-align: top;\n",
       "    }\n",
       "\n",
       "    .dataframe thead th {\n",
       "        text-align: right;\n",
       "    }\n",
       "</style>\n",
       "<table border=\"1\" class=\"dataframe\">\n",
       "  <thead>\n",
       "    <tr style=\"text-align: right;\">\n",
       "      <th></th>\n",
       "      <th>Seattle</th>\n",
       "      <th>Boston</th>\n",
       "    </tr>\n",
       "    <tr>\n",
       "      <th>YearMonth</th>\n",
       "      <th></th>\n",
       "      <th></th>\n",
       "    </tr>\n",
       "  </thead>\n",
       "  <tbody>\n",
       "    <tr>\n",
       "      <th>201609</th>\n",
       "      <td>143.255949</td>\n",
       "      <td>252.677308</td>\n",
       "    </tr>\n",
       "    <tr>\n",
       "      <th>201610</th>\n",
       "      <td>137.031939</td>\n",
       "      <td>233.416248</td>\n",
       "    </tr>\n",
       "    <tr>\n",
       "      <th>201611</th>\n",
       "      <td>135.688738</td>\n",
       "      <td>202.924416</td>\n",
       "    </tr>\n",
       "    <tr>\n",
       "      <th>201612</th>\n",
       "      <td>137.251835</td>\n",
       "      <td>192.601915</td>\n",
       "    </tr>\n",
       "    <tr>\n",
       "      <th>201701</th>\n",
       "      <td>136.882590</td>\n",
       "      <td>182.799671</td>\n",
       "    </tr>\n",
       "  </tbody>\n",
       "</table>\n",
       "</div>"
      ],
      "text/plain": [
       "              Seattle      Boston\n",
       "YearMonth                        \n",
       "201609     143.255949  252.677308\n",
       "201610     137.031939  233.416248\n",
       "201611     135.688738  202.924416\n",
       "201612     137.251835  192.601915\n",
       "201701     136.882590  182.799671"
      ]
     },
     "execution_count": 39,
     "metadata": {},
     "output_type": "execute_result"
    }
   ],
   "source": [
    "\n",
    "#merging two data frames \n",
    "comp_price_months = pd.merge(seattle_price_months,\n",
    "                 boston_price_months,\n",
    "                 on='YearMonth')\n",
    "\n",
    "comp_price_months.head()"
   ]
  },
  {
   "cell_type": "code",
   "execution_count": 25,
   "metadata": {},
   "outputs": [
    {
     "data": {
      "text/html": [
       "<style  type=\"text/css\" >\n",
       "    #T_d5a7b194_7f44_11ea_b27c_907841ee905crow0_col2 {\n",
       "            width:  10em;\n",
       "             height:  80%;\n",
       "            background:  linear-gradient(90deg,#5fba7d 100.0%, transparent 100.0%);\n",
       "        }    #T_d5a7b194_7f44_11ea_b27c_907841ee905crow1_col2 {\n",
       "            width:  10em;\n",
       "             height:  80%;\n",
       "            background:  linear-gradient(90deg,#5fba7d 88.1%, transparent 88.1%);\n",
       "        }    #T_d5a7b194_7f44_11ea_b27c_907841ee905crow2_col2 {\n",
       "            width:  10em;\n",
       "             height:  80%;\n",
       "            background:  linear-gradient(90deg,#5fba7d 61.4%, transparent 61.4%);\n",
       "        }    #T_d5a7b194_7f44_11ea_b27c_907841ee905crow3_col2 {\n",
       "            width:  10em;\n",
       "             height:  80%;\n",
       "            background:  linear-gradient(90deg,#5fba7d 50.6%, transparent 50.6%);\n",
       "        }    #T_d5a7b194_7f44_11ea_b27c_907841ee905crow4_col2 {\n",
       "            width:  10em;\n",
       "             height:  80%;\n",
       "            background:  linear-gradient(90deg,#5fba7d 42.0%, transparent 42.0%);\n",
       "        }</style><table id=\"T_d5a7b194_7f44_11ea_b27c_907841ee905c\" ><thead>    <tr>        <th class=\"blank level0\" ></th>        <th class=\"col_heading level0 col0\" >Seattle</th>        <th class=\"col_heading level0 col1\" >Boston</th>        <th class=\"col_heading level0 col2\" >Diff_Price</th>    </tr>    <tr>        <th class=\"index_name level0\" >YearMonth</th>        <th class=\"blank\" ></th>        <th class=\"blank\" ></th>        <th class=\"blank\" ></th>    </tr></thead><tbody>\n",
       "                <tr>\n",
       "                        <th id=\"T_d5a7b194_7f44_11ea_b27c_907841ee905clevel0_row0\" class=\"row_heading level0 row0\" >201609</th>\n",
       "                        <td id=\"T_d5a7b194_7f44_11ea_b27c_907841ee905crow0_col0\" class=\"data row0 col0\" >143.255949</td>\n",
       "                        <td id=\"T_d5a7b194_7f44_11ea_b27c_907841ee905crow0_col1\" class=\"data row0 col1\" >252.677308</td>\n",
       "                        <td id=\"T_d5a7b194_7f44_11ea_b27c_907841ee905crow0_col2\" class=\"data row0 col2\" >109.421360</td>\n",
       "            </tr>\n",
       "            <tr>\n",
       "                        <th id=\"T_d5a7b194_7f44_11ea_b27c_907841ee905clevel0_row1\" class=\"row_heading level0 row1\" >201610</th>\n",
       "                        <td id=\"T_d5a7b194_7f44_11ea_b27c_907841ee905crow1_col0\" class=\"data row1 col0\" >137.031939</td>\n",
       "                        <td id=\"T_d5a7b194_7f44_11ea_b27c_907841ee905crow1_col1\" class=\"data row1 col1\" >233.416248</td>\n",
       "                        <td id=\"T_d5a7b194_7f44_11ea_b27c_907841ee905crow1_col2\" class=\"data row1 col2\" >96.384309</td>\n",
       "            </tr>\n",
       "            <tr>\n",
       "                        <th id=\"T_d5a7b194_7f44_11ea_b27c_907841ee905clevel0_row2\" class=\"row_heading level0 row2\" >201611</th>\n",
       "                        <td id=\"T_d5a7b194_7f44_11ea_b27c_907841ee905crow2_col0\" class=\"data row2 col0\" >135.688738</td>\n",
       "                        <td id=\"T_d5a7b194_7f44_11ea_b27c_907841ee905crow2_col1\" class=\"data row2 col1\" >202.924416</td>\n",
       "                        <td id=\"T_d5a7b194_7f44_11ea_b27c_907841ee905crow2_col2\" class=\"data row2 col2\" >67.235678</td>\n",
       "            </tr>\n",
       "            <tr>\n",
       "                        <th id=\"T_d5a7b194_7f44_11ea_b27c_907841ee905clevel0_row3\" class=\"row_heading level0 row3\" >201612</th>\n",
       "                        <td id=\"T_d5a7b194_7f44_11ea_b27c_907841ee905crow3_col0\" class=\"data row3 col0\" >137.251835</td>\n",
       "                        <td id=\"T_d5a7b194_7f44_11ea_b27c_907841ee905crow3_col1\" class=\"data row3 col1\" >192.601915</td>\n",
       "                        <td id=\"T_d5a7b194_7f44_11ea_b27c_907841ee905crow3_col2\" class=\"data row3 col2\" >55.350080</td>\n",
       "            </tr>\n",
       "            <tr>\n",
       "                        <th id=\"T_d5a7b194_7f44_11ea_b27c_907841ee905clevel0_row4\" class=\"row_heading level0 row4\" >201701</th>\n",
       "                        <td id=\"T_d5a7b194_7f44_11ea_b27c_907841ee905crow4_col0\" class=\"data row4 col0\" >136.882590</td>\n",
       "                        <td id=\"T_d5a7b194_7f44_11ea_b27c_907841ee905crow4_col1\" class=\"data row4 col1\" >182.799671</td>\n",
       "                        <td id=\"T_d5a7b194_7f44_11ea_b27c_907841ee905crow4_col2\" class=\"data row4 col2\" >45.917080</td>\n",
       "            </tr>\n",
       "    </tbody></table>"
      ],
      "text/plain": [
       "<pandas.io.formats.style.Styler at 0x20e59e70808>"
      ]
     },
     "execution_count": 25,
     "metadata": {},
     "output_type": "execute_result"
    }
   ],
   "source": [
    "comp_price_months['Diff_Price'] = comp_price_months['Boston'] - comp_price_months['Seattle']\n",
    "comp_price_months.style.bar(subset=['Diff_Price'], align='mid', color=['#d65f5f', '#5fba7d'])"
   ]
  },
  {
   "cell_type": "code",
   "execution_count": 42,
   "metadata": {},
   "outputs": [
    {
     "data": {
      "text/plain": [
       "<matplotlib.legend.Legend at 0x20e767d4c48>"
      ]
     },
     "execution_count": 42,
     "metadata": {},
     "output_type": "execute_result"
    },
    {
     "data": {
      "image/png": "[encoded data removed]",
      "text/plain": [
       "<Figure size 432x288 with 1 Axes>"
      ]
     },
     "metadata": {
      "needs_background": "light"
     },
     "output_type": "display_data"
    }
   ],
   "source": [
    "base_color = sns.color_palette()[1] # 1 orange, 0 blue\n",
    "base_color_2 = sns.color_palette()[0]\n",
    "sns.barplot(comp_price_months.index.values,comp_price_months.Boston,color = base_color, label='Boston')\n",
    "sns.barplot(comp_price_months.index.values,comp_price_months.Seattle, color = base_color_2, label='Seattle')\n",
    "plt.xticks(rotation = 90)\n",
    "plt.xlabel('months')\n",
    "plt.ylabel('Avg price')\n",
    "plt.title('Avg Price Comparison of Boston and Seattle')\n",
    "plt.legend()"
   ]
  },
  {
   "cell_type": "code",
   "execution_count": null,
   "metadata": {},
   "outputs": [],
   "source": []
  }
 ],
 "metadata": {
  "kernelspec": {
   "display_name": "Python 3",
   "language": "python",
   "name": "python3"
  },
  "language_info": {
   "codemirror_mode": {
    "name": "ipython",
    "version": 3
   },
   "file_extension": ".py",
   "mimetype": "text/x-python",
   "name": "python",
   "nbconvert_exporter": "python",
   "pygments_lexer": "ipython3",
   "version": "3.7.6"
  }
 },
 "nbformat": 4,
 "nbformat_minor": 4
}
